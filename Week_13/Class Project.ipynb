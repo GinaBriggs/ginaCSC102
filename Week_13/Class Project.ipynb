{
 "cells": [
  {
   "cell_type": "code",
   "execution_count": null,
   "id": "051e51bd",
   "metadata": {},
   "outputs": [],
   "source": [
    "import pandas as pd\n",
    "\n",
    "student_details = {\"Student Name\": [\" Oluchi Mordi\", \"Adams Aliyu\", \"Shania Bolade\", \"Adekunle Gold\", \"Blanca Edemoh\"], \"Matric Number\": [\"ACC10211111\", \"ECO10110101\", \"CSC10328828\", \"EEE11020202\", \"MEE10202001\"], \"Department\": [\"Accounting\", \"Economics\", \"Computer\", \"Electrical\", \"Mechanical\"], \"Level\": [\"300\", \"100\", \"200\", \"200\", \"100\" ]}\n",
    "\n",
    "df = pd.DataFrame(student_details)\n",
    "\n",
    "print(\"\\nStudent Details:\")\n",
    "print(df)\n",
    "\n",
    "df.to_csv(\"student_details.csv\")\n",
    "print(\"Student details saved successfully in 'student_details.csv' file.\")"
   ]
  },
  {
   "cell_type": "code",
   "execution_count": null,
   "id": "1a589bf4",
   "metadata": {},
   "outputs": [],
   "source": []
  }
 ],
 "metadata": {
  "kernelspec": {
   "display_name": "Python 3",
   "language": "python",
   "name": "python3"
  },
  "language_info": {
   "codemirror_mode": {
    "name": "ipython",
    "version": 3
   },
   "file_extension": ".py",
   "mimetype": "text/x-python",
   "name": "python",
   "nbconvert_exporter": "python",
   "pygments_lexer": "ipython3",
   "version": "3.8.8"
  }
 },
 "nbformat": 4,
 "nbformat_minor": 5
}
