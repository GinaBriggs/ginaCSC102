{
 "cells": [
  {
   "cell_type": "code",
   "execution_count": 8,
   "id": "ff1ed521",
   "metadata": {},
   "outputs": [
    {
     "name": "stdout",
     "output_type": "stream",
     "text": [
      "Enter Principal: 1\n",
      "Enter Rate: 100\n",
      "Enter Time in years: 1\n",
      "Simple interest= 2.0\n"
     ]
    }
   ],
   "source": [
    "#Receive inputs from user\n",
    "Principal = float(input(\"Enter Principal: \"))\n",
    "Rate = float(input(\"Enter Rate: \"))\n",
    "Time = float(input(\"Enter Time in years: \"))\n",
    "\n",
    "#Simple Interest Formula\n",
    "Amount = Principal*(1 + (Rate/100)*Time)\n",
    "\n",
    "#Give output\n",
    "print(\"Simple interest=\", Amount)\n"
   ]
  },
  {
   "cell_type": "code",
   "execution_count": 10,
   "id": "c8673976",
   "metadata": {},
   "outputs": [
    {
     "name": "stdout",
     "output_type": "stream",
     "text": [
      "Enter Principal: 2\n",
      "Enter Rate: 2\n",
      "Enter Time in years: 1\n",
      "Enter Number of times interest is applied: 2\n",
      "Compound interest= 4.0\n"
     ]
    }
   ],
   "source": [
    "#Receive inputs from user\n",
    "Principal = float(input(\"Enter Principal: \"))\n",
    "Rate = float(input(\"Enter Rate: \"))\n",
    "Time = float(input(\"Enter Time in years: \"))\n",
    "N = float(input(\"Enter Number of times interest is applied: \"))\n",
    "\n",
    "#Compound Interest Formula\n",
    "Amount = Principal*(1 + (Rate/N)**(Time*N))\n",
    "\n",
    "#Give output\n",
    "print(\"Compound interest=\", Amount)\n"
   ]
  },
  {
   "cell_type": "code",
   "execution_count": 7,
   "id": "8f617980",
   "metadata": {},
   "outputs": [
    {
     "name": "stdout",
     "output_type": "stream",
     "text": [
      "Enter PMT: 4\n",
      "Enter Rate: 3\n",
      "Enter Time in years: 2\n",
      "Enter Number of times interest is applied: 2\n",
      "Annuity Plan= 101.5\n"
     ]
    }
   ],
   "source": [
    "#Receive inputs from user\n",
    "PMT = float(input(\"Enter PMT: \"))\n",
    "Rate = float(input(\"Enter Rate: \"))\n",
    "Time = float(input(\"Enter Time in years: \")) \n",
    "N = float(input(\"Enter Number of times interest is applied: \"))\n",
    "\n",
    "#Annuity Plan Formula\n",
    "Amount = PMT *(((1 + (Rate/N))**(Time*N) - 1)/(Rate/N))\n",
    "\n",
    "#Give output\n",
    "print(\"Annuity Plan=\", Amount)"
   ]
  },
  {
   "cell_type": "code",
   "execution_count": null,
   "id": "9eba34f4",
   "metadata": {},
   "outputs": [],
   "source": []
  }
 ],
 "metadata": {
  "kernelspec": {
   "display_name": "Python 3",
   "language": "python",
   "name": "python3"
  },
  "language_info": {
   "codemirror_mode": {
    "name": "ipython",
    "version": 3
   },
   "file_extension": ".py",
   "mimetype": "text/x-python",
   "name": "python",
   "nbconvert_exporter": "python",
   "pygments_lexer": "ipython3",
   "version": "3.8.8"
  }
 },
 "nbformat": 4,
 "nbformat_minor": 5
}
