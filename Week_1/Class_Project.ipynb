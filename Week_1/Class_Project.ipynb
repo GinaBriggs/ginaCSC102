{
 "cells": [
  {
   "cell_type": "code",
   "execution_count": 3,
   "id": "ff1ed521",
   "metadata": {},
   "outputs": [
    {
     "name": "stdout",
     "output_type": "stream",
     "text": [
      "Enter Principal: 8925\n",
      "Enter Rate: 9\n",
      "Enter Time in years: 5\n",
      "Simple interest= 12941.25\n"
     ]
    }
   ],
   "source": [
    "#Receive inputs from user\n",
    "Principal = float(input(\"Enter Principal: \"))\n",
    "Rate = float(input(\"Enter Rate: \"))\n",
    "Time = float(input(\"Enter Time in years: \"))\n",
    "\n",
    "#Simple Interest Formula\n",
    "Amount = Principal*(1 + (Rate/100)*Time)\n",
    "\n",
    "#Give output\n",
    "print(\"Simple interest=\", Amount)\n"
   ]
  },
  {
   "cell_type": "code",
   "execution_count": 4,
   "id": "c8673976",
   "metadata": {},
   "outputs": [
    {
     "name": "stdout",
     "output_type": "stream",
     "text": [
      "Enter Principal: 34\n",
      "Enter Rate: 2\n",
      "Enter Time in years: 7\n",
      "Enter Number of times interest is applied: 3\n",
      "Compound interest= 34.00681651628929\n"
     ]
    }
   ],
   "source": [
    "#Receive inputs from user\n",
    "Principal = float(input(\"Enter Principal: \"))\n",
    "Rate = float(input(\"Enter Rate: \"))\n",
    "Time = float(input(\"Enter Time in years: \"))\n",
    "N = float(input(\"Enter Number of times interest is applied: \"))\n",
    "\n",
    "#Compound Interest Formula\n",
    "Amount = Principal*(1 + (Rate/N)**(Time*N))\n",
    "\n",
    "#Give output\n",
    "print(\"Compound interest=\", Amount)\n"
   ]
  },
  {
   "cell_type": "code",
   "execution_count": 5,
   "id": "8f617980",
   "metadata": {},
   "outputs": [
    {
     "name": "stdout",
     "output_type": "stream",
     "text": [
      "Enter PMT: 3\n",
      "Enter Rate: 2\n",
      "Enter Time in years: 3\n",
      "Enter Number of times interest is applied: 4\n",
      "Annuity Plan= 772.47802734375\n"
     ]
    }
   ],
   "source": [
    "#Receive inputs from user\n",
    "PMT = float(input(\"Enter PMT: \"))\n",
    "Rate = float(input(\"Enter Rate: \"))\n",
    "Time = float(input(\"Enter Time in years: \")) \n",
    "N = float(input(\"Enter Number of times interest is applied: \"))\n",
    "\n",
    "#Annuity Plan Formula\n",
    "Amount = PMT *(((1 + (Rate/N))**(Time*N) - 1)/(Rate/N))\n",
    "\n",
    "#Give output\n",
    "print(\"Annuity Plan=\", Amount)"
   ]
  },
  {
   "cell_type": "code",
   "execution_count": null,
   "id": "9eba34f4",
   "metadata": {},
   "outputs": [],
   "source": []
  }
 ],
 "metadata": {
  "kernelspec": {
   "display_name": "Python 3",
   "language": "python",
   "name": "python3"
  }
 },
 "nbformat": 4,
 "nbformat_minor": 5
}
