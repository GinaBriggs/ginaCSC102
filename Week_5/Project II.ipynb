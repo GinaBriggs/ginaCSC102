{
 "cells": [
  {
   "cell_type": "code",
   "execution_count": 15,
   "id": "b0700bb8",
   "metadata": {},
   "outputs": [
    {
     "name": "stdout",
     "output_type": "stream",
     "text": [
      "Welcome to the Annual Tax Revenue Application\n",
      "Enter years of experience: 25\n",
      "Enter your age: 34\n",
      "the annual tax revenue (ATR) of the staff is N550,000\n"
     ]
    }
   ],
   "source": [
    "print(\"Welcome to the Annual Tax Revenue Application\")\n",
    "exp = int(input(\"Enter years of experience: \"))\n",
    "age = int(input(\"Enter your age: \"))\n",
    "\n",
    "if (exp > 25) & (age >= 55):\n",
    "    print(\"The annual tax revenue (ATR) of the staff is N5,600,000\")\n",
    "elif (exp > 20) & (age >= 45):\n",
    "    print(\"The annual tax revenue (ATR) of the staff is N4,480,000\")\n",
    "elif (exp > 10) & (age >= 35):\n",
    "    print(\"The annual tax revenue (ATR) of the staff is N1,500,000\")\n",
    "else:\n",
    "    print(\"The annual tax revenue (ATR) of the staff is N550,000\")"
   ]
  },
  {
   "cell_type": "code",
   "execution_count": null,
   "id": "22996276",
   "metadata": {},
   "outputs": [],
   "source": []
  },
  {
   "cell_type": "code",
   "execution_count": null,
   "id": "34592dfc",
   "metadata": {},
   "outputs": [],
   "source": []
  }
 ],
 "metadata": {
  "kernelspec": {
   "display_name": "Python 3",
   "language": "python",
   "name": "python3"
  },
  "language_info": {
   "codemirror_mode": {
    "name": "ipython",
    "version": 3
   },
   "file_extension": ".py",
   "mimetype": "text/x-python",
   "name": "python",
   "nbconvert_exporter": "python",
   "pygments_lexer": "ipython3",
   "version": "3.8.8"
  }
 },
 "nbformat": 4,
 "nbformat_minor": 5
}
