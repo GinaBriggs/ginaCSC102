{
 "cells": [
  {
   "cell_type": "code",
   "execution_count": 14,
   "id": "37ad9ba3",
   "metadata": {},
   "outputs": [
    {
     "name": "stdout",
     "output_type": "stream",
     "text": [
      "TABLE FOR GIRLS\n",
      "|Name    ||Age||Height||Score|\n",
      "|Samantha    ||17 ||5.5  ||80|\n",
      "|Jada    ||16 ||6.0  ||85|\n",
      "|Jane    ||17 ||5.4  ||70|\n",
      "|Claire    ||18 ||5.9  ||60|\n",
      "|Elizabeth    ||16 ||5.6  ||76|\n",
      "|Mary    ||18 ||5.5  ||66|\n",
      "|Susan    ||17 ||6.1  ||87|\n",
      "|Waje    ||20 ||6.0  ||95|\n",
      "|Taibat    ||19 ||5.7  ||50|\n",
      "|Lilian    ||17 ||5.5  ||49|\n",
      "\n",
      "\n",
      "TABLE FOR BOYS\n",
      "|Name    ||Age||Height||Score|\n",
      "|Charles    ||19 ||5.7  ||74|\n",
      "|Jude    ||16 ||5.9  ||87|\n",
      "|James    ||18 ||5.8  ||75|\n",
      "|Kelvin    ||17 ||6.1  ||68|\n",
      "|Biodun    ||20 ||5.9  ||66|\n",
      "|Wale    ||19 ||5.5  ||78|\n",
      "|Kunle    ||16 ||61  ||87|\n",
      "|Matthew    ||18 ||5.4  ||98|\n",
      "|Tom    ||17 ||5.8  ||54|\n",
      "|Kayode    ||19 ||5.7  ||60|\n"
     ]
    }
   ],
   "source": [
    "Name = ['Samantha', 'Jada', 'Jane', 'Claire', 'Elizabeth', 'Mary', 'Susan', 'Waje', 'Taibat', 'Lilian']\n",
    "Age = ['17','16','17','18','16','18','17','20','19','17']\n",
    "Height = ['5.5', '6.0','5.4','5.9','5.6','5.5','6.1','6.0','5.7','5.5'] \n",
    "Score = [80,85,70,60,76,66,87,95,50,49]\n",
    "\n",
    "Names = ['Charles', 'Jude', 'James', 'Kelvin', 'Biodun', 'Wale', 'Kunle', 'Matthew', 'Tom', 'Kayode']\n",
    "Ages = [19,16,18,17,20,19,16,18,17,19]\n",
    "Heights = [5.7,5.9,5.8,6.1,5.9,5.5,61,5.4,5.8,5.7]\n",
    "Scores = [74,87,75,68,66,78,87,98,54,60]\n",
    "\n",
    "print(\"TABLE FOR GIRLS\")\n",
    "print(\"|Name    ||Age||Height||Score|\")\n",
    "for n in range(10):\n",
    "    print(f\"|{Name[n]}    ||{Age[n]} ||{Height[n]}  ||{Score[n]}|\")\n",
    "print(\"\\n\")\n",
    "print(\"TABLE FOR BOYS\")\n",
    "print(\"|Name    ||Age||Height||Score|\")\n",
    "for n in range(10):\n",
    "    print(f\"|{Names[n]}    ||{Ages[n]} ||{Heights[n]}  ||{Scores[n]}|\")"
   ]
  },
  {
   "cell_type": "code",
   "execution_count": null,
   "id": "139c9bb8",
   "metadata": {},
   "outputs": [],
   "source": []
  },
  {
   "cell_type": "code",
   "execution_count": null,
   "id": "50d9f180",
   "metadata": {},
   "outputs": [],
   "source": []
  }
 ],
 "metadata": {
  "kernelspec": {
   "display_name": "Python 3",
   "language": "python",
   "name": "python3"
  },
  "language_info": {
   "codemirror_mode": {
    "name": "ipython",
    "version": 3
   },
   "file_extension": ".py",
   "mimetype": "text/x-python",
   "name": "python",
   "nbconvert_exporter": "python",
   "pygments_lexer": "ipython3",
   "version": "3.8.8"
  }
 },
 "nbformat": 4,
 "nbformat_minor": 5
}
