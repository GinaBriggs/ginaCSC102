{
 "cells": [
  {
   "cell_type": "code",
   "execution_count": 31,
   "id": "b8fe4a5d",
   "metadata": {},
   "outputs": [
    {
     "name": "stdout",
     "output_type": "stream",
     "text": [
      "Your Cubic Equation should be in the form x^3 + ax^2 + bx+ c = 0\n",
      "Where the Coefficient of x^3 = 1\n",
      "Enter coefficient a: -23\n",
      "Enter coefficient b: 142\n",
      "Enter coefficient c: -120\n",
      "Your first root is 12\n",
      "Your second root is 1\n",
      "Your third root is 10\n"
     ]
    }
   ],
   "source": [
    "#Cubic Equation Solver\n",
    "import cmath\n",
    "\n",
    "print(\"Your Cubic Equation should be in the form x^3 + ax^2 + bx+ c = 0\")\n",
    "print(\"Where the Coefficient of x^3 = 1\")\n",
    "a = float(input(\"Enter coefficient a: \"))\n",
    "b = float(input(\"Enter coefficient b: \"))\n",
    "c = float(input(\"Enter coefficient c: \"))\n",
    "\n",
    "Q = ((3*b)-(a**2))/9\n",
    "R = ((9*a*b)-(27*c)-(2*a**3))/54\n",
    "S = (R + (Q**3 + R**2)**(1/2)) ** (1/3)\n",
    "T = (R - (Q**3 + R**2)**(1/2)) ** (1/3)\n",
    "\n",
    "root_1 = S + T - a/3\n",
    "root_2 = -(S + T)/2 -a/3 + (((-1)**(1/2))* (3)**(1/2) * (S - T))/2\n",
    "root_3 = -(S + T)/2 -a/3 - (((-1)**(1/2)) * (3)**(1/2) * (S - T))/2\n",
    "\n",
    "# Round real and imaginary parts separately\n",
    "rounded_real1 = round(root_1.real)\n",
    "rounded_real2 = round(root_2.real)\n",
    "rounded_real3 = round(root_3.real)\n",
    "\n",
    "print(\"Your first root is\", rounded_real1)\n",
    "print(\"Your second root is\", rounded_real2)\n",
    "print(\"Your third root is\", rounded_real3)\n",
    "\n"
   ]
  },
  {
   "cell_type": "code",
   "execution_count": 56,
   "id": "3f706499",
   "metadata": {},
   "outputs": [
    {
     "name": "stdout",
     "output_type": "stream",
     "text": [
      "Your Quartic Equation should be in the form ax^4 + bx^3 + cx^2 + dx+ e = 0\n",
      "Enter coefficient a: 1\n",
      "Enter coefficient b: -9\n",
      "Enter coefficient c: -4\n",
      "Enter coefficient d: 36\n",
      "Enter coefficient e: 0\n",
      "Your first root is 0\n",
      "Your second root is -2\n",
      "Your third root is 9\n",
      "Your fourth root is 2\n"
     ]
    }
   ],
   "source": [
    "#Quartic Equation Solver\n",
    "import cmath\n",
    "\n",
    "print(\"Your Quartic Equation should be in the form ax^4 + bx^3 + cx^2 + dx+ e = 0\")\n",
    "a = float(input(\"Enter coefficient a: \"))\n",
    "b = float(input(\"Enter coefficient b: \"))\n",
    "c = float(input(\"Enter coefficient c: \"))\n",
    "d = float(input(\"Enter coefficient d: \"))\n",
    "e = float(input(\"Enter coefficient e: \"))\n",
    "\n",
    "p = (8*a*c - 3*b**2) / 8*a**2\n",
    "q = (b**3 - 4*a*b*c + 8*d*a**2) / 8*a**3\n",
    "\n",
    "A = c**2 - 3*b*d + 12*a*e\n",
    "B = 2*c**3 - 9*b*c*d + 27*e*b**2 + 27*a*d**2 - 72*a*c*e\n",
    "\n",
    "Q = ((B + (B**2 - 4*A**3)**(1/2)/2))**(1/3)\n",
    "S = (1/2)*(((-2*p)/3)+(1/3*a)*(Q + A/Q))**(1/2)\n",
    "\n",
    "root1 = -b/4*a - S + (1/2)*(-4*S**2 -2*p + q/S)**(1/2)\n",
    "root2 = -b/4*a - S - (1/2)*(-4*S**2 -2*p + q/S)**(1/2)\n",
    "root3 = -b/4*a + S + (1/2)*(-4*S**2 -2*p - q/S)**(1/2)\n",
    "root4 = -b/4*a + S - (1/2)*(-4*S**2 -2*p - q/S)**(1/2)\n",
    "\n",
    "# Round real and imaginary parts separately\n",
    "rounded_real1 = round(root1.real)\n",
    "rounded_real2 = round(root2.real)\n",
    "rounded_real3 = round(root3.real)\n",
    "rounded_real4 = round(root4.real)\n",
    "\n",
    "print(\"Your first root is\", rounded_real1)\n",
    "print(\"Your second root is\", rounded_real2)\n",
    "print(\"Your third root is\", rounded_real3)\n",
    "print(\"Your fourth root is\", rounded_real4)\n",
    "\n"
   ]
  },
  {
   "cell_type": "code",
   "execution_count": null,
   "id": "828395a2",
   "metadata": {},
   "outputs": [],
   "source": []
  },
  {
   "cell_type": "code",
   "execution_count": null,
   "id": "5461012c",
   "metadata": {},
   "outputs": [],
   "source": []
  }
 ],
 "metadata": {
  "kernelspec": {
   "display_name": "Python 3",
   "language": "python",
   "name": "python3"
  },
  "language_info": {
   "codemirror_mode": {
    "name": "ipython",
    "version": 3
   },
   "file_extension": ".py",
   "mimetype": "text/x-python",
   "name": "python",
   "nbconvert_exporter": "python",
   "pygments_lexer": "ipython3",
   "version": "3.8.8"
  }
 },
 "nbformat": 4,
 "nbformat_minor": 5
}
