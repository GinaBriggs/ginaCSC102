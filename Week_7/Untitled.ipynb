{
 "cells": [
  {
   "cell_type": "code",
   "execution_count": 1,
   "id": "bf561bea",
   "metadata": {},
   "outputs": [
    {
     "name": "stdout",
     "output_type": "stream",
     "text": [
      "Enter employee name: Ayomide\n",
      "Enter employee department: Accounting\n",
      "Welcome, Ayomide ADEWUMI!\n",
      "Company Profile:\n",
      "Name: ADEWUMI, Ayomide\n",
      "Department: Accounting\n"
     ]
    }
   ],
   "source": [
    "import pandas as pd\n",
    "\n",
    "def verify_employee(name, department):\n",
    "    df = pd.read_csv('jt-ventures.csv')\n",
    "    filtered_df = df[(df['FIRST NAME'] == name) & (df['DEPARTMENT'] == department)]\n",
    "    \n",
    "    if not filtered_df.empty:\n",
    "        employee = filtered_df.iloc[0]\n",
    "        print(f\"Welcome, {name} {employee['SURNAME']}!\")\n",
    "        print(\"Company Profile:\")\n",
    "        print(f\"Name: {employee['SURNAME']}, {employee['FIRST NAME']}\")\n",
    "        print(f\"Department: {employee['DEPARTMENT']}\")\n",
    "        # You can add more profile details here\n",
    "    else:\n",
    "        print(\"Employee does not exist.\")\n",
    "\n",
    "# Example usage\n",
    "name = input(\"Enter employee name: \")\n",
    "department = input(\"Enter employee department: \")\n",
    "verify_employee(name, department)"
   ]
  },
  {
   "cell_type": "code",
   "execution_count": null,
   "id": "35884bf6",
   "metadata": {},
   "outputs": [],
   "source": []
  }
 ],
 "metadata": {
  "kernelspec": {
   "display_name": "Python 3",
   "language": "python",
   "name": "python3"
  },
  "language_info": {
   "codemirror_mode": {
    "name": "ipython",
    "version": 3
   },
   "file_extension": ".py",
   "mimetype": "text/x-python",
   "name": "python",
   "nbconvert_exporter": "python",
   "pygments_lexer": "ipython3",
   "version": "3.8.8"
  }
 },
 "nbformat": 4,
 "nbformat_minor": 5
}
