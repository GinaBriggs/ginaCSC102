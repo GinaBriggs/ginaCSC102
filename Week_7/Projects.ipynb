{
 "cells": [
  {
   "cell_type": "code",
   "execution_count": 8,
   "id": "1a6e9860",
   "metadata": {},
   "outputs": [
    {
     "name": "stdout",
     "output_type": "stream",
     "text": [
      "Enter your name: Jason\n",
      "Enter your surname: EGBORO\n",
      "Enter your department: Administration\n",
      "Welcome Jason EGBORO to JT Ventures!\n",
      "Roll Number: 13.0\n",
      "Department: Administration\n"
     ]
    }
   ],
   "source": [
    "#import library\n",
    "import pandas as pd\n",
    "\n",
    "#Making the function\n",
    "def verify_employee(name, surname, department):\n",
    "    a = pd.read_csv('jt-ventures.csv')\n",
    "    #Make a dictionary that meets the criteria\n",
    "    criteria_a = a[(a['FIRST NAME'] == name) & (a['DEPARTMENT'] == department) & (a['SURNAME'] == surname)]\n",
    "    \n",
    "    if not criteria_a.empty:\n",
    "        employee = criteria_a.iloc[0]\n",
    "        print(f\"Welcome {name} {surname} to JT Ventures!\")\n",
    "        print(f\"Roll Number: {employee['S/N']}\")\n",
    "        print(f\"Department: {employee['DEPARTMENT']}\")\n",
    "    else:\n",
    "        print(\"Employee does not exist.\")\n",
    "\n",
    "# Receive Input\n",
    "name = input(\"Enter your name: \")\n",
    "surname = input(\"Enter your surname: \")\n",
    "department = input(\"Enter your department: \")\n",
    "verify_employee(name, surname, department)\n",
    "\n"
   ]
  },
  {
   "cell_type": "code",
   "execution_count": 12,
   "id": "8ce9864a",
   "metadata": {},
   "outputs": [
    {
     "name": "stdout",
     "output_type": "stream",
     "text": [
      "Welcome to Yega Services\n",
      "You are charged based on your location and weight of your package.\n",
      "Enter the delivery location: Epe\n",
      "Enter the package weight in kg: 500\n",
      "The delivery charge is N5,000\n"
     ]
    }
   ],
   "source": [
    "#Making function\n",
    "def delivery_charge(location, weight):\n",
    "    if location == \"Ibeju-Lekki\":\n",
    "        if weight >= 10:\n",
    "            print(\"The delivery charge is N2,000\")\n",
    "        else:\n",
    "            print(\"The delivery charge is N1,500\")\n",
    "    elif location == \"Epe\":\n",
    "        if weight >= 10:\n",
    "            print(\"The delivery charge is N5,000\")\n",
    "        else:\n",
    "            print(\"The delivery charge is N4,000\")\n",
    "    else:\n",
    "        print(\"Invalid location\")\n",
    "\n",
    "# Receive input\n",
    "print(\"Welcome to Yega Services\")\n",
    "print(\"You are charged based on your location and weight of your package.\") \n",
    "location = input(\"Enter the delivery location: \")\n",
    "weight = float(input(\"Enter the package weight in kg: \"))\n",
    "delivery_charge(location, weight)"
   ]
  },
  {
   "cell_type": "code",
   "execution_count": 22,
   "id": "2a90c947",
   "metadata": {},
   "outputs": [
    {
     "name": "stdout",
     "output_type": "stream",
     "text": [
      "What department are you in?\n",
      "1. Computer Science\n",
      "2. Mass Communication\n",
      "Input number: 1\n",
      "Enter your full name: Jason\n",
      "Enter your JAMB score: 390\n",
      "Enter the number of credit in key subjects: 6\n",
      "Did you pass the interview? (yes/no): yes\n",
      "Congratulations! You have been admitted into the Computer Science Department.\n"
     ]
    }
   ],
   "source": [
    "import pandas as pd\n",
    "\n",
    "def admission_compscience():\n",
    "    name = input(\"Enter your full name: \")\n",
    "    jamb_score = int(input(\"Enter your JAMB score: \"))\n",
    "    subject_credits = int(input(\"Enter the number of credit in key subjects: \"))\n",
    "    passed_interview = input(\"Did you pass the interview? (yes/no): \")\n",
    "    \n",
    "    # Check if candidate meets the admission requirements\n",
    "    if jamb_score >= 230 and subject_credits >= 5 and passed_interview == \"yes\":\n",
    "        # If the candidate meets the requirements, store their information in \"admitted.csv\"\n",
    "        data = {'Name': [name], 'JAMB Score': [jamb_score], 'Subject Credits': [subject_credits], 'Passed Interview': [passed_interview]}\n",
    "        df = pd.DataFrame(data)\n",
    "        df.to_csv('admitted.csv')\n",
    "        print(\"Congratulations! You have been admitted into the Computer Science Department.\")\n",
    "    else:\n",
    "        # If the candidate does not meet the requirements, store their information in \"not-admitted.csv\"\n",
    "        data = {'Name': [name], 'JAMB Score': [jamb_score], 'Subject Credits': [subject_credits], 'Passed Interview': [passed_interview]}\n",
    "        df = pd.DataFrame(data)\n",
    "        df.to_csv('not-admitted.csv')\n",
    "        print(\"Sorry, you do not meet the admission requirements for the Computer Science Department.\")\n",
    "\n",
    "def admission_masscom():\n",
    "    name = input(\"Enter your full name: \")\n",
    "    jamb_score = int(input(\"Enter your JAMB score: \"))\n",
    "    subject_credits = int(input(\"Enter the number of credit in key subjects: \"))\n",
    "    passed_interview = input(\"Did you pass the interview? (yes/no): \")\n",
    "    \n",
    "    # Check if candidate meets the admission requirements\n",
    "    if jamb_score >= 220 and subject_credits >= 5 and passed_interview == \"yes\":\n",
    "        # If the candidate meets the requirements, store their information in \"admitted.csv\"\n",
    "        data = {'Name': [name], 'JAMB Score': [jamb_score], 'Subject Credits': [subject_credits], 'Passed Interview': [passed_interview]}\n",
    "        df = pd.DataFrame(data)\n",
    "        df.to_csv('admitted.csv')\n",
    "        print(\"Congratulations! You have been admitted into the Computer Science Department.\")\n",
    "    else:\n",
    "        # If the candidate does not meet the requirements, store their information in \"not-admitted.csv\"\n",
    "        data = {'Name': [name], 'JAMB Score': [jamb_score], 'Subject Credits': [subject_credits], 'Passed Interview': [passed_interview]}\n",
    "        df = pd.DataFrame(data)\n",
    "        df.to_csv('not-admitted.csv')\n",
    "        print(\"Sorry, you do not meet the admission requirements for the Computer Science Department.\")\n",
    "\n",
    "# Call the function to check admission\n",
    "print(\"What department are you in?\")\n",
    "print(\"1. Computer Science\")\n",
    "print(\"2. Mass Communication\")\n",
    "department = int(input(\"Input number: \"))\n",
    "if department == 1:\n",
    "    admission_compscience()\n",
    "elif department == 2:\n",
    "    admission_masscom()\n",
    "else:\n",
    "    print(\"Choose between numbers 1 and 2\")\n"
   ]
  },
  {
   "cell_type": "code",
   "execution_count": null,
   "id": "6dbe93c1",
   "metadata": {},
   "outputs": [],
   "source": []
  },
  {
   "cell_type": "code",
   "execution_count": null,
   "id": "a10c80f5",
   "metadata": {},
   "outputs": [],
   "source": []
  },
  {
   "cell_type": "code",
   "execution_count": null,
   "id": "8441629f",
   "metadata": {},
   "outputs": [],
   "source": []
  }
 ],
 "metadata": {
  "kernelspec": {
   "display_name": "Python 3",
   "language": "python",
   "name": "python3"
  },
  "language_info": {
   "codemirror_mode": {
    "name": "ipython",
    "version": 3
   },
   "file_extension": ".py",
   "mimetype": "text/x-python",
   "name": "python",
   "nbconvert_exporter": "python",
   "pygments_lexer": "ipython3",
   "version": "3.8.8"
  }
 },
 "nbformat": 4,
 "nbformat_minor": 5
}
