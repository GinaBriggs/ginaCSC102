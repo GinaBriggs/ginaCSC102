{
 "cells": [
  {
   "cell_type": "code",
   "execution_count": 9,
   "id": "f87beb93",
   "metadata": {},
   "outputs": [
    {
     "name": "stdout",
     "output_type": "stream",
     "text": [
      "Insert name: ebi\n",
      "Insert department: accounting\n",
      "hello\n"
     ]
    }
   ],
   "source": [
    "# importing pandas package\n",
    "import pandas as pd\n",
    "\n",
    "#recieve input from the user\n",
    "name = input(\"Insert name: \")\n",
    "department = input(\"Insert department: \")\n",
    " \n",
    "# making data frame from csv file\n",
    "data = pd.read_csv(\"jt-ventures.csv\")\n",
    " \n",
    "def checker(name, department):\n",
    "    a = data.loc[:,:]\n",
    "    for name in a:\n",
    "        print (\"hello\")\n",
    "        break\n",
    "    return\n",
    "    \n",
    "checker(name, department)"
   ]
  },
  {
   "cell_type": "code",
   "execution_count": null,
   "id": "d78ee7e8",
   "metadata": {},
   "outputs": [],
   "source": []
  }
 ],
 "metadata": {
  "kernelspec": {
   "display_name": "Python 3",
   "language": "python",
   "name": "python3"
  },
  "language_info": {
   "codemirror_mode": {
    "name": "ipython",
    "version": 3
   },
   "file_extension": ".py",
   "mimetype": "text/x-python",
   "name": "python",
   "nbconvert_exporter": "python",
   "pygments_lexer": "ipython3",
   "version": "3.8.8"
  }
 },
 "nbformat": 4,
 "nbformat_minor": 5
}
