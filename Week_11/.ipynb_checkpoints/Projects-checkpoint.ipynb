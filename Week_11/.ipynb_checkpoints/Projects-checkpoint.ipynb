{
 "cells": [
  {
   "cell_type": "code",
   "execution_count": 6,
   "id": "91499113",
   "metadata": {},
   "outputs": [
    {
     "name": "stdout",
     "output_type": "stream",
     "text": [
      "Number of oranges: 100\n",
      "cost of items= 5000\n",
      "Thank you for your patronage\n"
     ]
    }
   ],
   "source": [
    "class store:\n",
    "    def __init__ (self, oranges):\n",
    "        self.oranges = oranges\n",
    "        \n",
    "    def correction(self, oranges, stock):\n",
    "        print(\"Select quantity less than previously specified\")\n",
    "    def calculation(self, oranges, price):\n",
    "        cost = oranges * price\n",
    "        print(f\"cost of items= {cost}\")\n",
    "        print(\"Thank you for your patronage\")\n",
    "        return\n",
    "    \n",
    "stock = 100    \n",
    "price = 50\n",
    "oranges = int(input(\"Number of oranges: \"))\n",
    "orange = store(oranges)\n",
    "if oranges > stock:\n",
    "    orange.correction(oranges, stock)\n",
    "else:\n",
    "    orange.calculation(oranges, price)"
   ]
  },
  {
   "cell_type": "code",
   "execution_count": 11,
   "id": "a681ec2f",
   "metadata": {},
   "outputs": [
    {
     "name": "stdout",
     "output_type": "stream",
     "text": [
      "Welcome to the Geometry Calculator!\n",
      "Please select the equation you want to calculate:\n",
      "1. Area of Trapezium\n",
      "2. Area of Rhombus\n",
      "3. Area of Parallelogram\n",
      "4. Area of Cube\n",
      "5. Volume of Cylinder\n",
      "Enter your choice (1-5): 4\n",
      "Enter the value of side length: 798\n",
      "The area of the cube is: 3820824.0\n"
     ]
    }
   ],
   "source": [
    "import math\n",
    "\n",
    "class GeometryCalculator:\n",
    "    def area_of_trapezium(base1, base2, height):\n",
    "        return height / 2 * (base1 + base2)\n",
    "\n",
    "    def area_of_rhombus(diagonal1, diagonal2):\n",
    "        return 0.5 * diagonal1 * diagonal2\n",
    "\n",
    "    def area_of_parallelogram(base, altitude):\n",
    "        return base * altitude\n",
    "\n",
    "    def area_of_cube(side_length):\n",
    "        return 6 * side_length ** 2\n",
    "\n",
    "    def volume_of_cylinder(radius, height):\n",
    "        return math.pi * radius ** 2 * height\n",
    "\n",
    "print(\"Welcome to the Geometry Calculator!\")\n",
    "print(\"Please select the equation you want to calculate:\")\n",
    "print(\"1. Area of Trapezium\")\n",
    "print(\"2. Area of Rhombus\")\n",
    "print(\"3. Area of Parallelogram\")\n",
    "print(\"4. Area of Cube\")\n",
    "print(\"5. Volume of Cylinder\")\n",
    "\n",
    "choice = input(\"Enter your choice (1-5): \")\n",
    "\n",
    "if choice == '1':\n",
    "        base1 = float(input(\"Enter the value of base 1: \"))\n",
    "        base2 = float(input(\"Enter the value of base 2: \"))\n",
    "        height = float(input(\"Enter the value of height: \"))\n",
    "        result = GeometryCalculator.area_of_trapezium(base1, base2, height)\n",
    "        print(\"The area of the trapezium is:\", result)\n",
    "\n",
    "elif choice == '2':\n",
    "        diagonal1 = float(input(\"Enter the value of diagonal 1: \"))\n",
    "        diagonal2 = float(input(\"Enter the value of diagonal 2: \"))\n",
    "        result = GeometryCalculator.area_of_rhombus(diagonal1, diagonal2)\n",
    "        print(\"The area of the rhombus is:\", result)\n",
    "\n",
    "elif choice == '3':\n",
    "        base = float(input(\"Enter the value of base: \"))\n",
    "        altitude = float(input(\"Enter the value of altitude: \"))\n",
    "        result = GeometryCalculator.area_of_parallelogram(base, altitude)\n",
    "        print(\"The area of the parallelogram is:\", result)\n",
    "\n",
    "elif choice == '4':\n",
    "        side_length = float(input(\"Enter the value of side length: \"))\n",
    "        result = GeometryCalculator.area_of_cube(side_length)\n",
    "        print(\"The area of the cube is:\", result)\n",
    "\n",
    "elif choice == '5':\n",
    "        radius = float(input(\"Enter the value of radius: \"))\n",
    "        height = float(input(\"Enter the value of height: \"))\n",
    "        result = GeometryCalculator.volume_of_cylinder(radius, height)\n",
    "        print(\"The volume of the cylinder is:\", result)\n",
    "\n",
    "else:\n",
    "        print(\"Invalid choice. Please select a number between 1 and 5.\")\n",
    "\n"
   ]
  },
  {
   "cell_type": "code",
   "execution_count": 12,
   "id": "d8614b94",
   "metadata": {},
   "outputs": [
    {
     "name": "stdout",
     "output_type": "stream",
     "text": [
      "Drink categories have been saved to 'drink_categories.csv'.\n"
     ]
    }
   ],
   "source": [
    "import csv\n",
    "\n",
    "class DrinkCategory:\n",
    "    def __init__(self, category_name, drink_names):\n",
    "        self.category_name = category_name\n",
    "        self.drink_names = drink_names\n",
    "\n",
    "class DrinkCategoriesCSVWriter:\n",
    "    def __init__(self, file_path):\n",
    "        self.file_path = file_path\n",
    "        self.drink_categories = []\n",
    "\n",
    "    def add_category(self, category_name, drink_names):\n",
    "        category = DrinkCategory(category_name, drink_names)\n",
    "        self.drink_categories.append(category)\n",
    "\n",
    "    def write_to_csv(self):\n",
    "        with open(self.file_path, 'w', newline='') as file:\n",
    "            writer = csv.writer(file)\n",
    "            writer.writerow(['Larger', 'Stout', 'Non-Alcoholic'])\n",
    "\n",
    "            for category in self.drink_categories:\n",
    "                for drink_name in category.drink_names:\n",
    "                    writer.writerow([category.category_name, drink_name])\n",
    "\n",
    "def main():\n",
    "    writer = DrinkCategoriesCSVWriter('drink_categories.csv')\n",
    "\n",
    "    writer.add_category('Lager', ['33 Export', 'Desperados', 'Goldberg', 'Gulder', 'Heineken', 'Star'])\n",
    "    writer.add_category('Stout', ['Legend', 'Turbo King'])\n",
    "    writer.add_category('Non-Alcoholic', ['Maltina', 'Amstel Malta', 'Malta Gold', 'Fayrouz'])\n",
    "\n",
    "    writer.write_to_csv()\n",
    "\n",
    "    print(\"Drink categories have been saved to 'drink_categories.csv'.\")\n",
    "\n",
    "if __name__ == '__main__':\n",
    "    main()\n"
   ]
  },
  {
   "cell_type": "code",
   "execution_count": null,
   "id": "e10b49a0",
   "metadata": {},
   "outputs": [],
   "source": []
  }
 ],
 "metadata": {
  "kernelspec": {
   "display_name": "Python 3",
   "language": "python",
   "name": "python3"
  },
  "language_info": {
   "codemirror_mode": {
    "name": "ipython",
    "version": 3
   },
   "file_extension": ".py",
   "mimetype": "text/x-python",
   "name": "python",
   "nbconvert_exporter": "python",
   "pygments_lexer": "ipython3",
   "version": "3.8.8"
  }
 },
 "nbformat": 4,
 "nbformat_minor": 5
}
